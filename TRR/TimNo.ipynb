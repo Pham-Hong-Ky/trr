{
 "cells": [
  {
   "cell_type": "code",
   "execution_count": 1,
   "metadata": {},
   "outputs": [
    {
     "name": "stdout",
     "output_type": "stream",
     "text": [
      "Các nghiệm không âm của phương trình là:\n",
      "(0, 0, 4)\n",
      "(0, 1, 3)\n",
      "(0, 2, 2)\n",
      "(0, 3, 1)\n",
      "(0, 4, 0)\n",
      "(1, 0, 3)\n",
      "(1, 1, 2)\n",
      "(1, 2, 1)\n",
      "(1, 3, 0)\n",
      "(2, 0, 2)\n",
      "(2, 1, 1)\n",
      "(2, 2, 0)\n",
      "(3, 0, 1)\n",
      "(3, 1, 0)\n",
      "(4, 0, 0)\n"
     ]
    }
   ],
   "source": [
    "def find_non_negative_solutions(target_sum):\n",
    "    solutions = []\n",
    "    for x1 in range(target_sum + 1):\n",
    "        for x2 in range(target_sum + 1):\n",
    "            for x3 in range(target_sum + 1):\n",
    "                if x1 + x2 + x3 == target_sum:\n",
    "                    solutions.append((x1, x2, x3))\n",
    "    return solutions\n",
    "\n",
    "target_sum = 4\n",
    "solutions = find_non_negative_solutions(target_sum)\n",
    "print(\"Các nghiệm không âm của phương trình là:\")\n",
    "for solution in solutions:\n",
    "    print(solution)"
   ]
  },
  {
   "cell_type": "code",
   "execution_count": null,
   "metadata": {},
   "outputs": [],
   "source": []
  }
 ],
 "metadata": {
  "kernelspec": {
   "display_name": "Python 3",
   "language": "python",
   "name": "python3"
  },
  "language_info": {
   "codemirror_mode": {
    "name": "ipython",
    "version": 3
   },
   "file_extension": ".py",
   "mimetype": "text/x-python",
   "name": "python",
   "nbconvert_exporter": "python",
   "pygments_lexer": "ipython3",
   "version": "3.12.1"
  }
 },
 "nbformat": 4,
 "nbformat_minor": 2
}

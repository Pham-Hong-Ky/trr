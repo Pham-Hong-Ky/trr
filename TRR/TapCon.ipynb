{
 "cells": [
  {
   "cell_type": "code",
   "execution_count": 1,
   "metadata": {},
   "outputs": [
    {
     "name": "stdout",
     "output_type": "stream",
     "text": [
      "Tất cả các tập con của mảng [1, 2, 3] là:\n",
      "[[], [1], [1, 2], [1, 2, 3], [1, 3], [2], [2, 3], [3]]\n"
     ]
    }
   ],
   "source": [
    "def subsets(arr):\n",
    "    def backtrack(start, path):\n",
    "        result.append(path)\n",
    "        for i in range(start, len(arr)):\n",
    "            backtrack(i + 1, path + [arr[i]])\n",
    "\n",
    "    result = []\n",
    "    backtrack(0, [])\n",
    "    return result\n",
    "\n",
    "# Sử dụng ví dụ\n",
    "arr = [1, 2, 3]\n",
    "print(\"Tất cả các tập con của mảng\", arr, \"là:\")\n",
    "print(subsets(arr))"
   ]
  },
  {
   "cell_type": "code",
   "execution_count": null,
   "metadata": {},
   "outputs": [],
   "source": []
  }
 ],
 "metadata": {
  "kernelspec": {
   "display_name": "Python 3",
   "language": "python",
   "name": "python3"
  },
  "language_info": {
   "codemirror_mode": {
    "name": "ipython",
    "version": 3
   },
   "file_extension": ".py",
   "mimetype": "text/x-python",
   "name": "python",
   "nbconvert_exporter": "python",
   "pygments_lexer": "ipython3",
   "version": "3.12.1"
  }
 },
 "nbformat": 4,
 "nbformat_minor": 2
}

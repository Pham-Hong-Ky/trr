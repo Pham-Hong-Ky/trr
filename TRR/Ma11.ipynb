{
 "cells": [
  {
   "cell_type": "code",
   "execution_count": 1,
   "metadata": {},
   "outputs": [],
   "source": [
    "#hoán vị\n",
    "def permutations(a):\n",
    "    n = len(a)\n",
    "    if(n == 1) : return [a]\n",
    "\n",
    "    P = []\n",
    "    for i in range(n):\n",
    "        b = a.copy()\n",
    "        x = b.pop(i)\n",
    "        for p in permutations(b):\n",
    "            p = [x] + p\n",
    "            P.append(p)\n",
    "    return P"
   ]
  },
  {
   "cell_type": "code",
   "execution_count": 3,
   "metadata": {},
   "outputs": [
    {
     "data": {
      "text/plain": [
       "['a', 'c', 'd', 'e', 'b']"
      ]
     },
     "execution_count": 3,
     "metadata": {},
     "output_type": "execute_result"
    }
   ],
   "source": [
    "A =(permutations([\"a\", \"b\", \"c\", \"d\",\"e\"]))\n",
    "A[9]"
   ]
  },
  {
   "cell_type": "code",
   "execution_count": null,
   "metadata": {},
   "outputs": [],
   "source": []
  }
 ],
 "metadata": {
  "kernelspec": {
   "display_name": "Python 3",
   "language": "python",
   "name": "python3"
  },
  "language_info": {
   "codemirror_mode": {
    "name": "ipython",
    "version": 3
   },
   "file_extension": ".py",
   "mimetype": "text/x-python",
   "name": "python",
   "nbconvert_exporter": "python",
   "pygments_lexer": "ipython3",
   "version": "3.12.2"
  },
  "orig_nbformat": 4
 },
 "nbformat": 4,
 "nbformat_minor": 2
}

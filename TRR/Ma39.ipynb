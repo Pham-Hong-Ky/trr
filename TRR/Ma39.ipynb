{
 "cells": [
  {
   "cell_type": "code",
   "execution_count": 3,
   "metadata": {},
   "outputs": [
    {
     "data": {
      "text/plain": [
       "[[True, True], [True, False], [False, True], [False, False]]"
      ]
     },
     "execution_count": 3,
     "metadata": {},
     "output_type": "execute_result"
    }
   ],
   "source": [
    "def binary_arrays(n):\n",
    "    if n == 1:\n",
    "        return [[True], [False]]\n",
    "    A = []\n",
    "    for a in binary_arrays(n-1): \n",
    "        a = [True] + a \n",
    "        A.append(a)\n",
    "    for a in binary_arrays(n-1): \n",
    "        a = [False] + a \n",
    "        A.append(a)\n",
    "    return A\n",
    "\n",
    "binary_arrays (2)\n"
   ]
  },
  {
   "cell_type": "code",
   "execution_count": 4,
   "metadata": {},
   "outputs": [
    {
     "name": "stdout",
     "output_type": "stream",
     "text": [
      "p q r False\n",
      "p q r False\n",
      "p q r True\n",
      "p q r False\n",
      "p q r True\n",
      "p q r True\n",
      "p q r True\n",
      "p q r True\n"
     ]
    }
   ],
   "source": [
    "from sympy import *\n",
    "\n",
    "p, q, r = symbols ('p q r')\n",
    "P = p >> (~q & r) | False\n",
    "for p_, q_, r_ in binary_arrays (3): print(p, q, r, P.subs({p: p_, q: q_, r: r_}))"
   ]
  },
  {
   "cell_type": "code",
   "execution_count": null,
   "metadata": {},
   "outputs": [],
   "source": []
  },
  {
   "cell_type": "code",
   "execution_count": null,
   "metadata": {},
   "outputs": [],
   "source": []
  }
 ],
 "metadata": {
  "kernelspec": {
   "display_name": "Python 3",
   "language": "python",
   "name": "python3"
  },
  "language_info": {
   "codemirror_mode": {
    "name": "ipython",
    "version": 3
   },
   "file_extension": ".py",
   "mimetype": "text/x-python",
   "name": "python",
   "nbconvert_exporter": "python",
   "pygments_lexer": "ipython3",
   "version": "3.12.2"
  }
 },
 "nbformat": 4,
 "nbformat_minor": 2
}
